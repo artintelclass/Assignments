{
 "cells": [
  {
   "cell_type": "code",
   "execution_count": null,
   "metadata": {},
   "outputs": [],
   "source": [
    "from __future__ import print_function\n",
    "import tensorflow.contrib.keras as keras\n",
    "from keras.datasets import mnist\n",
    "from keras.models import Sequential\n",
    "from keras.layers import Dense,Dropout\n",
    "from keras import optimizers\n",
    "from keras.optimizers import RMSprop,SGD,Adam\n",
    "import pandas as pd\n",
    "import numpy as np\n",
    "\n",
    "\n",
    "#overal, based on the same algorithm, what influence the learning is the bactch, epoches and hiddenlayers and nodes.\n",
    "batch_size = 10#updating times= sample/batch*epochs\n",
    "num_classes = 2#the number of classification\n",
    "epochs = 400\n",
    "# use pandas to read files\n",
    "# we don't have a header, and we don't want the first column to be index values\n",
    "training = pd.read_csv(\"train.csv\", header=None, index_col=False)\n",
    "# take the last column and store as labels as numpy array\n",
    "y_train= np.asfarray(training.iloc[:,13])\n",
    "# delete the last column and use the rest as data as numpy array\n",
    "x_train= np.asfarray(training.drop(columns=[13]))\n",
    "y_train = np.clip(y_train,0,1)\n",
    "# use pandas to read file we don't have a header, and we don't want the first column to be index values\n",
    "test = pd.read_csv(\"test.csv\", header=None, index_col=False)\n",
    "# take the first column and store as labels as numpy array\n",
    "y_test= np.asfarray(test.iloc[:,13])\n",
    "# delete the first column and use the rest as data as numpy array\n",
    "x_test= np.asfarray(test.drop(columns=[13]))\n",
    "y_test = np.clip(y_test,0,1)\n",
    "# convert class vectors to binary class matrices\n",
    "y_train = keras.utils.to_categorical(y_train, num_classes)\n",
    "y_test = keras.utils.to_categorical(y_test, num_classes)\n",
    "model = Sequential()\n",
    "model.add(Dense(50, activation='relu', input_shape=(13,)))#the number of features\n",
    "model.add(Dropout(0.25))\n",
    "model.add(Dense(50, activation='relu'))\n",
    "model.add(Dropout(0.25))\n",
    "model.add(Dense(num_classes, activation='softmax'))\n",
    "model.summary()#print out function\n",
    "# For a binary classification problem\n",
    "model.compile(loss='categorical_crossentropy', optimizer=RMSprop() ,metrics=['accuracy'])\n",
    "model.fit(x_train, y_train,batch_size=batch_size,epochs=epochs,verbose=1,validation_data=(x_test, y_test))\n",
    "score = model.evaluate(x_test, y_test,verbose=0)#should we fill the batch size here?\n",
    "print('Test loss:', score[0])\n",
    "print('Test accuracy:', score[1])"
   ]
  },
  {
   "cell_type": "code",
   "execution_count": null,
   "metadata": {},
   "outputs": [],
   "source": []
  },
  {
   "cell_type": "code",
   "execution_count": null,
   "metadata": {},
   "outputs": [],
   "source": []
  },
  {
   "cell_type": "code",
   "execution_count": null,
   "metadata": {},
   "outputs": [],
   "source": []
  },
  {
   "cell_type": "code",
   "execution_count": null,
   "metadata": {},
   "outputs": [],
   "source": []
  }
 ],
 "metadata": {
  "kernelspec": {
   "display_name": "Python 2",
   "language": "python",
   "name": "python2"
  },
  "language_info": {
   "codemirror_mode": {
    "name": "ipython",
    "version": 2
   },
   "file_extension": ".py",
   "mimetype": "text/x-python",
   "name": "python",
   "nbconvert_exporter": "python",
   "pygments_lexer": "ipython2",
   "version": "2.7.8"
  }
 },
 "nbformat": 4,
 "nbformat_minor": 2
}
