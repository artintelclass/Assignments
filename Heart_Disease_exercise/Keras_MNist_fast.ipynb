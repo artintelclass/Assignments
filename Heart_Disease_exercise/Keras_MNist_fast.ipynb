{
 "cells": [
  {
   "cell_type": "code",
   "execution_count": null,
   "metadata": {
    "collapsed": true
   },
   "outputs": [],
   "source": [
    "tra"
   ]
  },
  {
   "cell_type": "code",
   "execution_count": 135,
   "metadata": {},
   "outputs": [
    {
     "name": "stdout",
     "output_type": "stream",
     "text": [
      "290 train samples\n",
      "13 test samples\n",
      "_________________________________________________________________\n",
      "Layer (type)                 Output Shape              Param #   \n",
      "=================================================================\n",
      "dense_403 (Dense)            (None, 512)               7168      \n",
      "_________________________________________________________________\n",
      "dense_404 (Dense)            (None, 512)               262656    \n",
      "_________________________________________________________________\n",
      "dense_405 (Dense)            (None, 2)                 1026      \n",
      "=================================================================\n",
      "Total params: 270,850\n",
      "Trainable params: 270,850\n",
      "Non-trainable params: 0\n",
      "_________________________________________________________________\n",
      "Train on 290 samples, validate on 13 samples\n",
      "Epoch 1/6\n",
      "290/290 [==============================] - 4s 14ms/step - loss: 3.8496 - acc: 0.5241 - val_loss: 0.4769 - val_acc: 0.7692\n",
      "Epoch 2/6\n",
      "290/290 [==============================] - 0s 75us/step - loss: 1.1076 - acc: 0.5897 - val_loss: 0.6020 - val_acc: 0.7692\n",
      "Epoch 3/6\n",
      "290/290 [==============================] - 0s 68us/step - loss: 0.8955 - acc: 0.6207 - val_loss: 0.7019 - val_acc: 0.6923\n",
      "Epoch 4/6\n",
      "290/290 [==============================] - 0s 74us/step - loss: 0.9490 - acc: 0.6448 - val_loss: 0.3437 - val_acc: 0.8462\n",
      "Epoch 5/6\n",
      "290/290 [==============================] - 0s 74us/step - loss: 1.1426 - acc: 0.6310 - val_loss: 2.4596 - val_acc: 0.3077\n",
      "Epoch 6/6\n",
      "290/290 [==============================] - 0s 76us/step - loss: 1.6544 - acc: 0.5552 - val_loss: 0.4877 - val_acc: 0.8462\n",
      "Test loss: 0.487731039524\n",
      "Test accuracy: 0.846153855324\n"
     ]
    }
   ],
   "source": [
    "'''Trains a simple deep NN on the MNIST dataset.\n",
    "Gets to 93% test accuracy after 5 epochs\n",
    "'''\n",
    "import pandas as pd\n",
    "import numpy as np\n",
    "\n",
    "from __future__ import print_function\n",
    "import keras\n",
    "from keras.datasets import mnist\n",
    "from keras.models import Sequential\n",
    "\n",
    "from keras.layers import Dense\n",
    "from keras.optimizers import RMSprop\n",
    "from keras.optimizers import Adadelta\n",
    "\n",
    "\n",
    "batch_size = 110\n",
    "# num_classes set to 2, in order to distinguish between 0 and everything else (>= 0)\n",
    "num_classes = 2\n",
    "epochs = 6\n",
    "\n",
    "# read the data.csv file into a pandas object, telling it that there is no header, and no index column.\n",
    "cardio = pd.read_csv('cleveland.csv', header=None, index_col=False)\n",
    "\n",
    "# the size of an entry, from the .shape() method from pandas\n",
    "# [0,1] returns the length, height of the array\n",
    "size = cardio.shape[0]\n",
    "# determine how to split the data between a training set and a test set\n",
    "train_size = 290\n",
    "test_size = 13\n",
    "\n",
    "# train_data = cardio.iloc(0:290,0:14)\n",
    "training_labels =np.asfarray(cardio.iloc[:train_size,13])\n",
    "training_features = np.asfarray(cardio.iloc[:train_size,0:13])\n",
    "\n",
    "test_labels = np.asfarray(cardio.iloc[train_size:size,13])\n",
    "test_features = np.asfarray(cardio.iloc[train_size:size,0:13])\n",
    "\n",
    "x_train = training_features\n",
    "# for the labels, clip between 0 and 1, since we're not concerned with 1-5, only 0 and >0.\n",
    "y_train = np.clip(training_labels,0,1)\n",
    "x_test = test_features\n",
    "y_test = np.clip(test_labels,0,1)\n",
    "\n",
    "\n",
    "\"\"\"# these lines are not necessary, since we aren't using the mnist data set\n",
    "# and since we do not need to reshape the arrays, or scale the values between 0. and 1. \n",
    "\n",
    "# the data, split between train and test sets\n",
    "# (x_train, y_train), (x_test, y_test) = mnist.load_data()\n",
    "# x_train = x_train.reshape(60000, 784)\n",
    "# x_test = x_test.reshape(10000, 784)\n",
    "# x_train = x_train.astype('float32')\n",
    "# x_test = x_test.astype('float32')\n",
    "# x_train /= 255\n",
    "# x_test /= 255\n",
    "\"\"\"\n",
    "\n",
    "print(x_train.shape[0], 'train samples')\n",
    "print(x_test.shape[0], 'test samples')\n",
    "\n",
    "# convert class vectors to binary class matrices\n",
    "y_train = keras.utils.to_categorical(y_train, num_classes)\n",
    "y_test = keras.utils.to_categorical(y_test, num_classes)\n",
    "\n",
    "model = Sequential()\n",
    "model.add(Dense(512, activation='relu', input_shape=(13,)))\n",
    "model.add(Dense(512, activation='relu'))\n",
    "model.add(Dense(num_classes, activation='softmax'))\n",
    "# model.add(Dense(num_classes, activation='relu'))\n",
    "\n",
    "\n",
    "\n",
    "model.summary()\n",
    "\n",
    "model.compile(loss='categorical_crossentropy',\n",
    "#               optimizer=RMSprop(),\n",
    "              optimizer=Adadelta(lr=0.05),\n",
    "              metrics=['accuracy'])\n",
    "\n",
    "history = model.fit(x_train, y_train,\n",
    "                    batch_size=batch_size,\n",
    "                    epochs=epochs,\n",
    "                    verbose=1,\n",
    "                    validation_data=(x_test, y_test))\n",
    "score = model.evaluate(x_test, y_test, verbose=0)\n",
    "print('Test loss:', score[0])\n",
    "print('Test accuracy:', score[1])"
   ]
  },
  {
   "cell_type": "code",
   "execution_count": null,
   "metadata": {
    "collapsed": true
   },
   "outputs": [],
   "source": []
  },
  {
   "cell_type": "code",
   "execution_count": null,
   "metadata": {
    "collapsed": true
   },
   "outputs": [],
   "source": []
  },
  {
   "cell_type": "code",
   "execution_count": null,
   "metadata": {
    "collapsed": true
   },
   "outputs": [],
   "source": []
  }
 ],
 "metadata": {
  "kernelspec": {
   "display_name": "Python 3",
   "language": "python",
   "name": "python3"
  },
  "language_info": {
   "codemirror_mode": {
    "name": "ipython",
    "version": 3
   },
   "file_extension": ".py",
   "mimetype": "text/x-python",
   "name": "python",
   "nbconvert_exporter": "python",
   "pygments_lexer": "ipython3",
   "version": "3.6.3"
  }
 },
 "nbformat": 4,
 "nbformat_minor": 2
}
